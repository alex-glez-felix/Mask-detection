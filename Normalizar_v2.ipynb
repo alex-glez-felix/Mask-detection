{
 "cells": [
  {
   "cell_type": "code",
   "execution_count": 1,
   "id": "5d60f505-ee02-4d46-b9da-70d952e80207",
   "metadata": {},
   "outputs": [],
   "source": [
    "from tensorflow.keras.applications.mobilenet_v2 import preprocess_input\n",
    "from tensorflow.keras.preprocessing.image import img_to_array\n",
    "from tensorflow.keras.models import load_model\n",
    "from imutils.video import VideoStream\n",
    "import numpy as np\n",
    "import imutils\n",
    "import cv2\n",
    "import os"
   ]
  },
  {
   "cell_type": "code",
   "execution_count": 2,
   "id": "8a908484-d787-4b75-94cf-11e590aac3d4",
   "metadata": {},
   "outputs": [],
   "source": [
    "# load our serialized face detector model from disk\n",
    "prototxtPath = r\"face_detector\\deploy.prototxt\"\n",
    "weightsPath = r\"face_detector\\res10_300x300_ssd_iter_140000.caffemodel\"\n",
    "faceNet = cv2.dnn.readNet(prototxtPath, weightsPath)"
   ]
  },
  {
   "cell_type": "code",
   "execution_count": 3,
   "id": "8bc2cf6e-05c3-46c3-a93b-ca566b13c3e1",
   "metadata": {},
   "outputs": [],
   "source": [
    "DATA_DIRECTORY = r\"C:\\Users\\aleja\\Pictures\\dataset\"\n",
    "CATEGORIES = [\"bien\", \"mal\", \"sin\"]"
   ]
  },
  {
   "cell_type": "code",
   "execution_count": 4,
   "id": "de3bdf66-f39a-4507-a194-831179a08314",
   "metadata": {},
   "outputs": [
    {
     "name": "stdout",
     "output_type": "stream",
     "text": [
      "2ategory: bien, photo 223 of 484, #faces: (1, 1, 200, 7)          \n",
      "(0, 0, 3)\n",
      "OpenCV(4.6.0) D:\\a\\opencv-python\\opencv-python\\opencv\\modules\\imgproc\\src\\resize.cpp:4052: error: (-215:Assertion failed) !ssize.empty() in function 'cv::resize'\n",
      "\n",
      "3\n",
      "(0, 0, 3)\n",
      "OpenCV(4.6.0) D:\\a\\opencv-python\\opencv-python\\opencv\\modules\\imgproc\\src\\resize.cpp:4052: error: (-215:Assertion failed) !ssize.empty() in function 'cv::resize'\n",
      "\n",
      "4\n",
      "(0, 0, 3)\n",
      "OpenCV(4.6.0) D:\\a\\opencv-python\\opencv-python\\opencv\\modules\\imgproc\\src\\resize.cpp:4052: error: (-215:Assertion failed) !ssize.empty() in function 'cv::resize'\n",
      "\n",
      "5\n",
      "(0, 0, 3)\n",
      "OpenCV(4.6.0) D:\\a\\opencv-python\\opencv-python\\opencv\\modules\\imgproc\\src\\resize.cpp:4052: error: (-215:Assertion failed) !ssize.empty() in function 'cv::resize'\n",
      "\n",
      "Category: sin, photo 490 of 491, #faces: (1, 1, 200, 7)           \r"
     ]
    }
   ],
   "source": [
    "for cat in CATEGORIES:\n",
    "    dirs = os.listdir(f\"{DATA_DIRECTORY}/{cat}\")\n",
    "    for idx, name in enumerate(dirs):\n",
    "        print(f\"Category: {cat}, photo {idx} of {len(dirs)}\", end=\"\\r\")\n",
    "        img_dir = f\"{DATA_DIRECTORY}/{cat}/{name}\"\n",
    "        img = cv2.imread(img_dir)\n",
    "        \n",
    "        if img is None:\n",
    "            print(img_dir)\n",
    "            raise ValueError(\"No hay imagen\")\n",
    "        (h, w) = img.shape[:2]\n",
    "        blob = cv2.dnn.blobFromImage(img, 1.0, (224, 224), (104.0, 177.0, 123.0))\n",
    "\n",
    "        faceNet.setInput(blob)\n",
    "        detections = faceNet.forward()\n",
    "        \n",
    "        print(f\"Category: {cat}, photo {idx} of {len(dirs)}, #faces: {detections.shape}          \", end=\"\\r\")\n",
    "        \n",
    "        for i in range(0, detections.shape[2]):\n",
    "            confidence = detections[0, 0, i, 2]\n",
    "            \n",
    "            if confidence < 0.5:\n",
    "                continue\n",
    "            box = detections[0, 0, i, 3:7] * np.array([w, h, w, h])\n",
    "            startX, startY, endX, endY = box.astype(\"int\")\n",
    "                \n",
    "            startX, startY = max(0, startX), max(0, startY)\n",
    "            endX, endY = min(w - 1, endX), min(h - 1, endY)\n",
    "            try:\n",
    "                face = img[startY:endY, startX:endX]\n",
    "                face = cv2.resize(face, (224, 224))\n",
    "                cv2.imwrite(f\"normalized_dataset/{cat}/{idx}_{i}.jpg\", face)\n",
    "            except Exception as ex:\n",
    "                print(f\"EXCEPTION\\n\\t{idx=} | {i=} | {face.shape=}\\n\\t {img_dir=}\\n\\t {ex=}\")\n",
    "            \n",
    "            "
   ]
  },
  {
   "cell_type": "code",
   "execution_count": null,
   "id": "dc7c84dc-51b2-4cba-85dc-6347cd4c3983",
   "metadata": {},
   "outputs": [],
   "source": []
  }
 ],
 "metadata": {
  "kernelspec": {
   "display_name": "Python 3 (ipykernel)",
   "language": "python",
   "name": "python3"
  },
  "language_info": {
   "codemirror_mode": {
    "name": "ipython",
    "version": 3
   },
   "file_extension": ".py",
   "mimetype": "text/x-python",
   "name": "python",
   "nbconvert_exporter": "python",
   "pygments_lexer": "ipython3",
   "version": "3.10.5"
  }
 },
 "nbformat": 4,
 "nbformat_minor": 5
}
