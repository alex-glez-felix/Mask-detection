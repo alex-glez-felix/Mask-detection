{
 "cells": [
  {
   "cell_type": "code",
   "execution_count": 1,
   "id": "483d6cb8-8fa6-482f-b48f-4b0a73d9e3ef",
   "metadata": {},
   "outputs": [],
   "source": [
    "from tensorflow.keras.preprocessing.image import ImageDataGenerator\n",
    "# from tensorflow.keras.applications import MobileNetV2\n",
    "from tensorflow.keras.layers import AveragePooling2D\n",
    "from tensorflow.keras.layers import Dropout\n",
    "from tensorflow.keras.layers import Flatten\n",
    "from tensorflow.keras.layers import Dense\n",
    "from tensorflow.keras.layers import Input\n",
    "from tensorflow.keras.models import Model\n",
    "from tensorflow.keras.optimizers import Adam\n",
    "# from tensorflow.keras.applications.mobilenet_v2 import preprocess_input\n",
    "from tensorflow.keras.preprocessing.image import img_to_array\n",
    "from tensorflow.keras.preprocessing.image import load_img\n",
    "from tensorflow.keras.utils import to_categorical\n",
    "from sklearn.preprocessing import LabelBinarizer\n",
    "from sklearn.model_selection import train_test_split\n",
    "from sklearn.metrics import classification_report\n",
    "from imutils import paths\n",
    "import matplotlib.pyplot as plt\n",
    "import numpy as np\n",
    "import os"
   ]
  },
  {
   "cell_type": "code",
   "execution_count": 2,
   "id": "c60c7656",
   "metadata": {},
   "outputs": [],
   "source": [
    "from tensorflow.keras.applications.resnet50 import preprocess_input\n",
    "from tensorflow.keras.applications.resnet50 import ResNet50, decode_predictions"
   ]
  },
  {
   "cell_type": "code",
   "execution_count": 3,
   "id": "95f2c0b1-1b03-462a-8559-1c1bb10145ce",
   "metadata": {},
   "outputs": [],
   "source": [
    "INIT_LR = 1e-4\n",
    "EPOCHS = 40\n",
    "BS = 32\n",
    "\n",
    "DIRECTORY = r\"normalized_dataset\"\n",
    "CATEGORIES = [\"bien\", \"mal\", \"sin\"]"
   ]
  },
  {
   "cell_type": "code",
   "execution_count": 4,
   "id": "5853226c-b297-4ef8-84e7-388da1a1620e",
   "metadata": {},
   "outputs": [
    {
     "name": "stdout",
     "output_type": "stream",
     "text": [
      "[name: \"/device:CPU:0\"\n",
      "device_type: \"CPU\"\n",
      "memory_limit: 268435456\n",
      "locality {\n",
      "}\n",
      "incarnation: 2018461164245949321\n",
      "xla_global_id: -1\n",
      ", name: \"/device:GPU:0\"\n",
      "device_type: \"GPU\"\n",
      "memory_limit: 4162256896\n",
      "locality {\n",
      "  bus_id: 1\n",
      "  links {\n",
      "  }\n",
      "}\n",
      "incarnation: 2345494687479183541\n",
      "physical_device_desc: \"device: 0, name: NVIDIA GeForce RTX 2060, pci bus id: 0000:07:00.0, compute capability: 7.5\"\n",
      "xla_global_id: 416903419\n",
      "]\n",
      "Default GPU Device: /device:GPU:0\n"
     ]
    }
   ],
   "source": [
    "import tensorflow as tf\n",
    "from tensorflow.python.client import device_lib\n",
    "print(device_lib.list_local_devices())\n",
    "\n",
    "if tf.test.gpu_device_name():\n",
    "    print('Default GPU Device: {}'.format(tf.test.gpu_device_name()))\n",
    "else:\n",
    "    print(\"Please install GPU version of TF\")"
   ]
  },
  {
   "cell_type": "code",
   "execution_count": 5,
   "id": "9db48394-104e-4f22-8762-c5d5a62b5658",
   "metadata": {},
   "outputs": [
    {
     "name": "stdout",
     "output_type": "stream",
     "text": [
      "[INFO] loading images...\n",
      "normalized_dataset\\bien\n",
      "normalized_dataset\\mal\n",
      "normalized_dataset\\sin\n",
      "(1135, 224, 224, 3) (284, 224, 224, 3)\n"
     ]
    }
   ],
   "source": [
    "print(\"[INFO] loading images...\")\n",
    "\n",
    "data = []\n",
    "labels = []\n",
    "\n",
    "for category in CATEGORIES:\n",
    "    path = os.path.join(DIRECTORY, category)\n",
    "    print(path)\n",
    "    for img in os.listdir(path):\n",
    "    \timg_path = os.path.join(path, img)\n",
    "    \timage = load_img(img_path, target_size=(224, 224))\n",
    "    \timage = img_to_array(image)\n",
    "    \timage = preprocess_input(image)\n",
    "\n",
    "    \tdata.append(image)\n",
    "    \tlabels.append(category)\n",
    "        \n",
    "# perform one-hot encoding on the labels\n",
    "lb = LabelBinarizer()\n",
    "labels = lb.fit_transform(labels)\n",
    "\n",
    "data = np.array(data, dtype=\"float32\")\n",
    "labels = np.array(labels)\n",
    "\n",
    "(trainX, testX, trainY, testY) = train_test_split(data, labels,\n",
    "\ttest_size=0.20, stratify=labels, random_state=42)\n",
    "print(trainX.shape, testX.shape)"
   ]
  },
  {
   "cell_type": "code",
   "execution_count": 6,
   "id": "bdd065dc-062d-48dd-803e-b13518e86d44",
   "metadata": {},
   "outputs": [],
   "source": [
    "aug = ImageDataGenerator(\n",
    "\trotation_range=20,\n",
    "\tzoom_range=0.15,\n",
    "\twidth_shift_range=0.2,\n",
    "\theight_shift_range=0.2,\n",
    "\tshear_range=0.15,\n",
    "\thorizontal_flip=True,\n",
    "\tfill_mode=\"nearest\")"
   ]
  },
  {
   "cell_type": "code",
   "execution_count": 7,
   "id": "40e49b64-2555-4d01-bc5a-ef97f6e80448",
   "metadata": {},
   "outputs": [
    {
     "name": "stdout",
     "output_type": "stream",
     "text": [
      "Downloading data from https://storage.googleapis.com/tensorflow/keras-applications/resnet/resnet50_weights_tf_dim_ordering_tf_kernels_notop.h5\n",
      "94765736/94765736 [==============================] - 2s 0us/step\n"
     ]
    }
   ],
   "source": [
    "baseModel = ResNet50(weights=\"imagenet\", include_top=False,\n",
    "\tinput_tensor=Input(shape=(224, 224, 3)))\n",
    "\n",
    "headModel = baseModel.output\n",
    "headModel = AveragePooling2D(pool_size=(7, 7))(headModel)\n",
    "headModel = Flatten(name=\"flatten\")(headModel)\n",
    "headModel = Dense(128, activation=\"relu\")(headModel)\n",
    "headModel = Dropout(0.5)(headModel)\n",
    "headModel = Dense(3, activation=\"softmax\")(headModel)\n",
    "\n",
    "model = Model(inputs=baseModel.input, outputs=headModel)\n",
    "\n",
    "for layer in baseModel.layers:\n",
    "\tlayer.trainable = False"
   ]
  },
  {
   "cell_type": "code",
   "execution_count": 8,
   "id": "cc8a0329-ba2b-468d-9f35-3ab3ab5ffcda",
   "metadata": {},
   "outputs": [
    {
     "name": "stdout",
     "output_type": "stream",
     "text": [
      "[INFO] compiling model...\n"
     ]
    }
   ],
   "source": [
    "print(\"[INFO] compiling model...\")\n",
    "opt = Adam(learning_rate=INIT_LR, decay=INIT_LR / EPOCHS)\n",
    "model.compile(loss=\"binary_crossentropy\", optimizer=opt,\n",
    "\tmetrics=[\"accuracy\"])"
   ]
  },
  {
   "cell_type": "code",
   "execution_count": 9,
   "id": "d9b6ebb9-aace-4241-aa2c-847abcc06095",
   "metadata": {},
   "outputs": [
    {
     "name": "stdout",
     "output_type": "stream",
     "text": [
      "[INFO] training head...\n",
      "Epoch 1/40\n",
      "35/35 [==============================] - 18s 343ms/step - loss: 0.6186 - accuracy: 0.5322 - val_loss: 0.4018 - val_accuracy: 0.7465\n",
      "Epoch 2/40\n",
      "35/35 [==============================] - 11s 299ms/step - loss: 0.4545 - accuracy: 0.6863 - val_loss: 0.3486 - val_accuracy: 0.8134\n",
      "Epoch 3/40\n",
      "35/35 [==============================] - 10s 295ms/step - loss: 0.3990 - accuracy: 0.7534 - val_loss: 0.3217 - val_accuracy: 0.8204\n",
      "Epoch 4/40\n",
      "35/35 [==============================] - 10s 291ms/step - loss: 0.3772 - accuracy: 0.7607 - val_loss: 0.3023 - val_accuracy: 0.8275\n",
      "Epoch 5/40\n",
      "35/35 [==============================] - 10s 292ms/step - loss: 0.3665 - accuracy: 0.7715 - val_loss: 0.2840 - val_accuracy: 0.8380\n",
      "Epoch 6/40\n",
      "35/35 [==============================] - 10s 292ms/step - loss: 0.3422 - accuracy: 0.7906 - val_loss: 0.2899 - val_accuracy: 0.8345\n",
      "Epoch 7/40\n",
      "35/35 [==============================] - 10s 295ms/step - loss: 0.3281 - accuracy: 0.8087 - val_loss: 0.2689 - val_accuracy: 0.8556\n",
      "Epoch 8/40\n",
      "35/35 [==============================] - 10s 297ms/step - loss: 0.3247 - accuracy: 0.8132 - val_loss: 0.2687 - val_accuracy: 0.8521\n",
      "Epoch 9/40\n",
      "35/35 [==============================] - 10s 292ms/step - loss: 0.3088 - accuracy: 0.8305 - val_loss: 0.2684 - val_accuracy: 0.8451\n",
      "Epoch 10/40\n",
      "35/35 [==============================] - 10s 292ms/step - loss: 0.3028 - accuracy: 0.8078 - val_loss: 0.2496 - val_accuracy: 0.8486\n",
      "Epoch 11/40\n",
      "35/35 [==============================] - 10s 294ms/step - loss: 0.2852 - accuracy: 0.8459 - val_loss: 0.2548 - val_accuracy: 0.8415\n",
      "Epoch 12/40\n",
      "35/35 [==============================] - 10s 291ms/step - loss: 0.2991 - accuracy: 0.8314 - val_loss: 0.2619 - val_accuracy: 0.8415\n",
      "Epoch 13/40\n",
      "35/35 [==============================] - 10s 291ms/step - loss: 0.2835 - accuracy: 0.8386 - val_loss: 0.2750 - val_accuracy: 0.8310\n",
      "Epoch 14/40\n",
      "35/35 [==============================] - 10s 293ms/step - loss: 0.2748 - accuracy: 0.8395 - val_loss: 0.2489 - val_accuracy: 0.8451\n",
      "Epoch 15/40\n",
      "35/35 [==============================] - 10s 291ms/step - loss: 0.2860 - accuracy: 0.8332 - val_loss: 0.2406 - val_accuracy: 0.8592\n",
      "Epoch 16/40\n",
      "35/35 [==============================] - 11s 298ms/step - loss: 0.2736 - accuracy: 0.8486 - val_loss: 0.2426 - val_accuracy: 0.8521\n",
      "Epoch 17/40\n",
      "35/35 [==============================] - 10s 293ms/step - loss: 0.2589 - accuracy: 0.8459 - val_loss: 0.2384 - val_accuracy: 0.8592\n",
      "Epoch 18/40\n",
      "35/35 [==============================] - 10s 294ms/step - loss: 0.2683 - accuracy: 0.8549 - val_loss: 0.2547 - val_accuracy: 0.8486\n",
      "Epoch 19/40\n",
      "35/35 [==============================] - 10s 296ms/step - loss: 0.2645 - accuracy: 0.8513 - val_loss: 0.2471 - val_accuracy: 0.8521\n",
      "Epoch 20/40\n",
      "35/35 [==============================] - 10s 295ms/step - loss: 0.2392 - accuracy: 0.8685 - val_loss: 0.2433 - val_accuracy: 0.8592\n",
      "Epoch 21/40\n",
      "35/35 [==============================] - 10s 293ms/step - loss: 0.2451 - accuracy: 0.8595 - val_loss: 0.2515 - val_accuracy: 0.8556\n",
      "Epoch 22/40\n",
      "35/35 [==============================] - 10s 295ms/step - loss: 0.2403 - accuracy: 0.8667 - val_loss: 0.2380 - val_accuracy: 0.8556\n",
      "Epoch 23/40\n",
      "35/35 [==============================] - 11s 321ms/step - loss: 0.2406 - accuracy: 0.8604 - val_loss: 0.2464 - val_accuracy: 0.8556\n",
      "Epoch 24/40\n",
      "35/35 [==============================] - 11s 312ms/step - loss: 0.2399 - accuracy: 0.8586 - val_loss: 0.2337 - val_accuracy: 0.8627\n",
      "Epoch 25/40\n",
      "35/35 [==============================] - 10s 287ms/step - loss: 0.2273 - accuracy: 0.8704 - val_loss: 0.2349 - val_accuracy: 0.8486\n",
      "Epoch 26/40\n",
      "35/35 [==============================] - 10s 294ms/step - loss: 0.2307 - accuracy: 0.8649 - val_loss: 0.2356 - val_accuracy: 0.8627\n",
      "Epoch 27/40\n",
      "35/35 [==============================] - 10s 288ms/step - loss: 0.2275 - accuracy: 0.8676 - val_loss: 0.2290 - val_accuracy: 0.8662\n",
      "Epoch 28/40\n",
      "35/35 [==============================] - 10s 297ms/step - loss: 0.2254 - accuracy: 0.8749 - val_loss: 0.2220 - val_accuracy: 0.8662\n",
      "Epoch 29/40\n",
      "35/35 [==============================] - 11s 299ms/step - loss: 0.2225 - accuracy: 0.8830 - val_loss: 0.2468 - val_accuracy: 0.8592\n",
      "Epoch 30/40\n",
      "35/35 [==============================] - 10s 297ms/step - loss: 0.2149 - accuracy: 0.8767 - val_loss: 0.2266 - val_accuracy: 0.8627\n",
      "Epoch 31/40\n",
      "35/35 [==============================] - 10s 295ms/step - loss: 0.2200 - accuracy: 0.8812 - val_loss: 0.2207 - val_accuracy: 0.8662\n",
      "Epoch 32/40\n",
      "35/35 [==============================] - 10s 291ms/step - loss: 0.2093 - accuracy: 0.8912 - val_loss: 0.2453 - val_accuracy: 0.8592\n",
      "Epoch 33/40\n",
      "35/35 [==============================] - 10s 295ms/step - loss: 0.2070 - accuracy: 0.8911 - val_loss: 0.2224 - val_accuracy: 0.8697\n",
      "Epoch 34/40\n",
      "35/35 [==============================] - 10s 292ms/step - loss: 0.2116 - accuracy: 0.8840 - val_loss: 0.2515 - val_accuracy: 0.8521\n",
      "Epoch 35/40\n",
      "35/35 [==============================] - 10s 291ms/step - loss: 0.2012 - accuracy: 0.8966 - val_loss: 0.2338 - val_accuracy: 0.8662\n",
      "Epoch 36/40\n",
      "35/35 [==============================] - 10s 291ms/step - loss: 0.1972 - accuracy: 0.8894 - val_loss: 0.2288 - val_accuracy: 0.8627\n",
      "Epoch 37/40\n",
      "35/35 [==============================] - 10s 291ms/step - loss: 0.2112 - accuracy: 0.8821 - val_loss: 0.2292 - val_accuracy: 0.8627\n",
      "Epoch 38/40\n",
      "35/35 [==============================] - 10s 292ms/step - loss: 0.1892 - accuracy: 0.8948 - val_loss: 0.2472 - val_accuracy: 0.8521\n",
      "Epoch 39/40\n",
      "35/35 [==============================] - 10s 289ms/step - loss: 0.2045 - accuracy: 0.8921 - val_loss: 0.2273 - val_accuracy: 0.8592\n",
      "Epoch 40/40\n",
      "35/35 [==============================] - 10s 290ms/step - loss: 0.1918 - accuracy: 0.9030 - val_loss: 0.2391 - val_accuracy: 0.8592\n"
     ]
    }
   ],
   "source": [
    "print(\"[INFO] training head...\")\n",
    "H = model.fit(\n",
    "\taug.flow(trainX, trainY, batch_size=BS),\n",
    "\tsteps_per_epoch=len(trainX) // BS,\n",
    "\tvalidation_data=(testX, testY),\n",
    "\tvalidation_steps=len(testX) // BS,\n",
    "\tepochs=EPOCHS)"
   ]
  },
  {
   "cell_type": "code",
   "execution_count": 10,
   "id": "2ba09430-bbe5-437a-8d40-1f476cfb1f85",
   "metadata": {},
   "outputs": [
    {
     "name": "stdout",
     "output_type": "stream",
     "text": [
      "[INFO] evaluating network...\n",
      "9/9 [==============================] - 2s 195ms/step\n",
      "              precision    recall  f1-score   support\n",
      "\n",
      "        bien       0.78      0.98      0.87        87\n",
      "         mal       0.92      0.66      0.76        99\n",
      "         sin       0.90      0.96      0.93        98\n",
      "\n",
      "    accuracy                           0.86       284\n",
      "   macro avg       0.87      0.86      0.85       284\n",
      "weighted avg       0.87      0.86      0.85       284\n",
      "\n"
     ]
    }
   ],
   "source": [
    "print(\"[INFO] evaluating network...\")\n",
    "predIdxs = model.predict(testX, batch_size=BS)\n",
    "\n",
    "# for each image in the testing set we need to find the index of the\n",
    "# label with corresponding largest predicted probability\n",
    "predIdxs = np.argmax(predIdxs, axis=1)\n",
    "\n",
    "# show a nicely formatted classification report\n",
    "print(classification_report(testY.argmax(axis=1), predIdxs,\n",
    "\ttarget_names=lb.classes_))"
   ]
  },
  {
   "cell_type": "code",
   "execution_count": 11,
   "id": "4e1a6fb9-0d9c-4374-b483-d8e6f9f0afdc",
   "metadata": {},
   "outputs": [
    {
     "name": "stdout",
     "output_type": "stream",
     "text": [
      "[INFO] saving mask detector model...\n"
     ]
    }
   ],
   "source": [
    "# serialize the model to disk\n",
    "print(\"[INFO] saving mask detector model...\")\n",
    "model.save(\"mask_detector_resnet50_v1.model\", save_format=\"h5\")"
   ]
  },
  {
   "cell_type": "code",
   "execution_count": 12,
   "id": "0534e9bc-b7fb-43b8-83be-8fa3c9519f8c",
   "metadata": {},
   "outputs": [
    {
     "data": {
      "image/png": "[encoded data removed]",
      "text/plain": [
       "<Figure size 432x288 with 1 Axes>"
      ]
     },
     "metadata": {
      "needs_background": "light"
     },
     "output_type": "display_data"
    }
   ],
   "source": [
    "\n",
    "# plot the training loss and accuracy\n",
    "N = EPOCHS\n",
    "plt.style.use(\"ggplot\")\n",
    "plt.figure()\n",
    "plt.plot(np.arange(0, N), H.history[\"loss\"], label=\"train_loss\")\n",
    "plt.plot(np.arange(0, N), H.history[\"val_loss\"], label=\"val_loss\")\n",
    "plt.plot(np.arange(0, N), H.history[\"accuracy\"], label=\"train_acc\")\n",
    "plt.plot(np.arange(0, N), H.history[\"val_accuracy\"], label=\"val_acc\")\n",
    "plt.title(\"Training Loss and Accuracy\")\n",
    "plt.xlabel(\"Epoch #\")\n",
    "plt.ylabel(\"Loss/Accuracy\")\n",
    "plt.legend(loc=\"lower left\")\n",
    "plt.savefig(\"plotv3.png\")"
   ]
  }
 ],
 "metadata": {
  "kernelspec": {
   "display_name": "Python 3.10.5 ('venv': venv)",
   "language": "python",
   "name": "python3"
  },
  "language_info": {
   "codemirror_mode": {
    "name": "ipython",
    "version": 3
   },
   "file_extension": ".py",
   "mimetype": "text/x-python",
   "name": "python",
   "nbconvert_exporter": "python",
   "pygments_lexer": "ipython3",
   "version": "3.10.5"
  },
  "vscode": {
   "interpreter": {
    "hash": "d1ac1780ac1e1c0eef832a94039d63c076592e8c95eab8378a3e24dc520ef8f3"
   }
  }
 },
 "nbformat": 4,
 "nbformat_minor": 5
}
