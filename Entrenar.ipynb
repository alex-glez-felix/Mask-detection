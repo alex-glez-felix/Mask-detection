{
 "cells": [
  {
   "cell_type": "code",
   "execution_count": 1,
   "id": "483d6cb8-8fa6-482f-b48f-4b0a73d9e3ef",
   "metadata": {},
   "outputs": [],
   "source": [
    "from tensorflow.keras.preprocessing.image import ImageDataGenerator\n",
    "from tensorflow.keras.applications import MobileNetV2\n",
    "from tensorflow.keras.layers import AveragePooling2D\n",
    "from tensorflow.keras.layers import Dropout\n",
    "from tensorflow.keras.layers import Flatten\n",
    "from tensorflow.keras.layers import Dense\n",
    "from tensorflow.keras.layers import Input\n",
    "from tensorflow.keras.models import Model\n",
    "from tensorflow.keras.optimizers import Adam\n",
    "from tensorflow.keras.applications.mobilenet_v2 import preprocess_input\n",
    "from tensorflow.keras.preprocessing.image import img_to_array\n",
    "from tensorflow.keras.preprocessing.image import load_img\n",
    "from tensorflow.keras.utils import to_categorical\n",
    "from sklearn.preprocessing import LabelBinarizer\n",
    "from sklearn.model_selection import train_test_split\n",
    "from sklearn.metrics import classification_report\n",
    "from imutils import paths\n",
    "import matplotlib.pyplot as plt\n",
    "import numpy as np\n",
    "import os"
   ]
  },
  {
   "cell_type": "code",
   "execution_count": 2,
   "id": "95f2c0b1-1b03-462a-8559-1c1bb10145ce",
   "metadata": {},
   "outputs": [],
   "source": [
    "INIT_LR = 1e-4\n",
    "EPOCHS = 40\n",
    "BS = 32\n",
    "\n",
    "DIRECTORY = r\"normalized_dataset\"\n",
    "CATEGORIES = [\"bien\", \"mal\", \"sin\"]"
   ]
  },
  {
   "cell_type": "code",
   "execution_count": 3,
   "id": "5853226c-b297-4ef8-84e7-388da1a1620e",
   "metadata": {},
   "outputs": [
    {
     "name": "stdout",
     "output_type": "stream",
     "text": [
      "[name: \"/device:CPU:0\"\n",
      "device_type: \"CPU\"\n",
      "memory_limit: 268435456\n",
      "locality {\n",
      "}\n",
      "incarnation: 1109518696407167136\n",
      "xla_global_id: -1\n",
      ", name: \"/device:GPU:0\"\n",
      "device_type: \"GPU\"\n",
      "memory_limit: 4162256896\n",
      "locality {\n",
      "  bus_id: 1\n",
      "  links {\n",
      "  }\n",
      "}\n",
      "incarnation: 7079070988128115101\n",
      "physical_device_desc: \"device: 0, name: NVIDIA GeForce RTX 2060, pci bus id: 0000:07:00.0, compute capability: 7.5\"\n",
      "xla_global_id: 416903419\n",
      "]\n",
      "Default GPU Device: /device:GPU:0\n"
     ]
    }
   ],
   "source": [
    "import tensorflow as tf\n",
    "from tensorflow.python.client import device_lib\n",
    "print(device_lib.list_local_devices())\n",
    "\n",
    "if tf.test.gpu_device_name():\n",
    "    print('Default GPU Device: {}'.format(tf.test.gpu_device_name()))\n",
    "else:\n",
    "    print(\"Please install GPU version of TF\")"
   ]
  },
  {
   "cell_type": "code",
   "execution_count": 4,
   "id": "9db48394-104e-4f22-8762-c5d5a62b5658",
   "metadata": {},
   "outputs": [
    {
     "name": "stdout",
     "output_type": "stream",
     "text": [
      "[INFO] loading images...\n",
      "normalized_dataset\\bien\n",
      "normalized_dataset\\mal\n",
      "normalized_dataset\\sin\n",
      "(1135, 224, 224, 3) (284, 224, 224, 3)\n"
     ]
    }
   ],
   "source": [
    "print(\"[INFO] loading images...\")\n",
    "\n",
    "data = []\n",
    "labels = []\n",
    "\n",
    "for category in CATEGORIES:\n",
    "    path = os.path.join(DIRECTORY, category)\n",
    "    print(path)\n",
    "    for img in os.listdir(path):\n",
    "    \timg_path = os.path.join(path, img)\n",
    "    \timage = load_img(img_path, target_size=(224, 224))\n",
    "    \timage = img_to_array(image)\n",
    "    \timage = preprocess_input(image)\n",
    "\n",
    "    \tdata.append(image)\n",
    "    \tlabels.append(category)\n",
    "        \n",
    "# perform one-hot encoding on the labels\n",
    "lb = LabelBinarizer()\n",
    "labels = lb.fit_transform(labels)\n",
    "\n",
    "data = np.array(data, dtype=\"float32\")\n",
    "labels = np.array(labels)\n",
    "\n",
    "(trainX, testX, trainY, testY) = train_test_split(data, labels,\n",
    "\ttest_size=0.20, stratify=labels, random_state=42)\n",
    "print(trainX.shape, testX.shape)"
   ]
  },
  {
   "cell_type": "code",
   "execution_count": 5,
   "id": "bdd065dc-062d-48dd-803e-b13518e86d44",
   "metadata": {},
   "outputs": [],
   "source": [
    "aug = ImageDataGenerator(\n",
    "\trotation_range=20,\n",
    "\tzoom_range=0.15,\n",
    "\twidth_shift_range=0.2,\n",
    "\theight_shift_range=0.2,\n",
    "\tshear_range=0.15,\n",
    "\thorizontal_flip=True,\n",
    "\tfill_mode=\"nearest\")"
   ]
  },
  {
   "cell_type": "code",
   "execution_count": 6,
   "id": "40e49b64-2555-4d01-bc5a-ef97f6e80448",
   "metadata": {},
   "outputs": [
    {
     "name": "stdout",
     "output_type": "stream",
     "text": [
      "WARNING:tensorflow:`input_shape` is undefined or non-square, or `rows` is not in [96, 128, 160, 192, 224]. Weights for input shape (224, 224) will be loaded as the default.\n"
     ]
    }
   ],
   "source": [
    "baseModel = MobileNetV2(weights=\"imagenet\", include_top=False,\n",
    "\tinput_tensor=Input(shape=(224, 224, 3)))\n",
    "\n",
    "headModel = baseModel.output\n",
    "headModel = AveragePooling2D(pool_size=(7, 7))(headModel)\n",
    "headModel = Flatten(name=\"flatten\")(headModel)\n",
    "headModel = Dense(128, activation=\"relu\")(headModel)\n",
    "headModel = Dropout(0.5)(headModel)\n",
    "headModel = Dense(3, activation=\"softmax\")(headModel)\n",
    "\n",
    "model = Model(inputs=baseModel.input, outputs=headModel)\n",
    "\n",
    "for layer in baseModel.layers:\n",
    "\tlayer.trainable = False"
   ]
  },
  {
   "cell_type": "code",
   "execution_count": 7,
   "id": "cc8a0329-ba2b-468d-9f35-3ab3ab5ffcda",
   "metadata": {},
   "outputs": [
    {
     "name": "stdout",
     "output_type": "stream",
     "text": [
      "[INFO] compiling model...\n"
     ]
    }
   ],
   "source": [
    "print(\"[INFO] compiling model...\")\n",
    "opt = Adam(learning_rate=INIT_LR, decay=INIT_LR / EPOCHS)\n",
    "model.compile(loss=\"binary_crossentropy\", optimizer=opt,\n",
    "\tmetrics=[\"accuracy\"])"
   ]
  },
  {
   "cell_type": "code",
   "execution_count": 8,
   "id": "d9b6ebb9-aace-4241-aa2c-847abcc06095",
   "metadata": {},
   "outputs": [
    {
     "name": "stdout",
     "output_type": "stream",
     "text": [
      "[INFO] training head...\n",
      "Epoch 1/40\n",
      "35/35 [==============================] - 18s 305ms/step - loss: 0.6203 - accuracy: 0.4959 - val_loss: 0.4542 - val_accuracy: 0.7394\n",
      "Epoch 2/40\n",
      "35/35 [==============================] - 10s 275ms/step - loss: 0.4851 - accuracy: 0.6609 - val_loss: 0.3945 - val_accuracy: 0.7887\n",
      "Epoch 3/40\n",
      "35/35 [==============================] - 10s 275ms/step - loss: 0.4326 - accuracy: 0.7189 - val_loss: 0.3606 - val_accuracy: 0.8028\n",
      "Epoch 4/40\n",
      "35/35 [==============================] - 10s 274ms/step - loss: 0.3971 - accuracy: 0.7625 - val_loss: 0.3335 - val_accuracy: 0.8169\n",
      "Epoch 5/40\n",
      "35/35 [==============================] - 10s 274ms/step - loss: 0.3828 - accuracy: 0.7543 - val_loss: 0.3168 - val_accuracy: 0.8239\n",
      "Epoch 6/40\n",
      "35/35 [==============================] - 10s 283ms/step - loss: 0.3732 - accuracy: 0.7705 - val_loss: 0.3049 - val_accuracy: 0.8310\n",
      "Epoch 7/40\n",
      "35/35 [==============================] - 10s 279ms/step - loss: 0.3638 - accuracy: 0.7724 - val_loss: 0.2970 - val_accuracy: 0.8380\n",
      "Epoch 8/40\n",
      "35/35 [==============================] - 10s 285ms/step - loss: 0.3525 - accuracy: 0.7797 - val_loss: 0.2921 - val_accuracy: 0.8345\n",
      "Epoch 9/40\n",
      "35/35 [==============================] - 10s 277ms/step - loss: 0.3395 - accuracy: 0.7897 - val_loss: 0.2861 - val_accuracy: 0.8345\n",
      "Epoch 10/40\n",
      "35/35 [==============================] - 10s 276ms/step - loss: 0.3299 - accuracy: 0.8024 - val_loss: 0.2799 - val_accuracy: 0.8380\n",
      "Epoch 11/40\n",
      "35/35 [==============================] - 10s 300ms/step - loss: 0.3118 - accuracy: 0.8051 - val_loss: 0.2765 - val_accuracy: 0.8415\n",
      "Epoch 12/40\n",
      "35/35 [==============================] - 10s 284ms/step - loss: 0.3255 - accuracy: 0.8069 - val_loss: 0.2720 - val_accuracy: 0.8451\n",
      "Epoch 13/40\n",
      "35/35 [==============================] - 10s 283ms/step - loss: 0.3077 - accuracy: 0.8096 - val_loss: 0.2670 - val_accuracy: 0.8345\n",
      "Epoch 14/40\n",
      "35/35 [==============================] - 10s 291ms/step - loss: 0.3008 - accuracy: 0.8305 - val_loss: 0.2659 - val_accuracy: 0.8345\n",
      "Epoch 15/40\n",
      "35/35 [==============================] - 10s 294ms/step - loss: 0.3076 - accuracy: 0.8033 - val_loss: 0.2599 - val_accuracy: 0.8310\n",
      "Epoch 16/40\n",
      "35/35 [==============================] - 10s 286ms/step - loss: 0.2897 - accuracy: 0.8214 - val_loss: 0.2620 - val_accuracy: 0.8345\n",
      "Epoch 17/40\n",
      "35/35 [==============================] - 10s 277ms/step - loss: 0.2961 - accuracy: 0.8169 - val_loss: 0.2590 - val_accuracy: 0.8345\n",
      "Epoch 18/40\n",
      "35/35 [==============================] - 10s 279ms/step - loss: 0.2854 - accuracy: 0.8377 - val_loss: 0.2555 - val_accuracy: 0.8451\n",
      "Epoch 19/40\n",
      "35/35 [==============================] - 10s 278ms/step - loss: 0.2792 - accuracy: 0.8350 - val_loss: 0.2569 - val_accuracy: 0.8380\n",
      "Epoch 20/40\n",
      "35/35 [==============================] - 10s 282ms/step - loss: 0.2704 - accuracy: 0.8432 - val_loss: 0.2504 - val_accuracy: 0.8415\n",
      "Epoch 21/40\n",
      "35/35 [==============================] - 10s 274ms/step - loss: 0.2710 - accuracy: 0.8341 - val_loss: 0.2479 - val_accuracy: 0.8415\n",
      "Epoch 22/40\n",
      "35/35 [==============================] - 10s 274ms/step - loss: 0.2755 - accuracy: 0.8196 - val_loss: 0.2441 - val_accuracy: 0.8415\n",
      "Epoch 23/40\n",
      "35/35 [==============================] - 10s 278ms/step - loss: 0.2681 - accuracy: 0.8432 - val_loss: 0.2482 - val_accuracy: 0.8451\n",
      "Epoch 24/40\n",
      "35/35 [==============================] - 10s 282ms/step - loss: 0.2659 - accuracy: 0.8491 - val_loss: 0.2458 - val_accuracy: 0.8486\n",
      "Epoch 25/40\n",
      "35/35 [==============================] - 10s 287ms/step - loss: 0.2683 - accuracy: 0.8432 - val_loss: 0.2435 - val_accuracy: 0.8521\n",
      "Epoch 26/40\n",
      "35/35 [==============================] - 10s 280ms/step - loss: 0.2604 - accuracy: 0.8450 - val_loss: 0.2392 - val_accuracy: 0.8521\n",
      "Epoch 27/40\n",
      "35/35 [==============================] - 10s 277ms/step - loss: 0.2509 - accuracy: 0.8558 - val_loss: 0.2399 - val_accuracy: 0.8451\n",
      "Epoch 28/40\n",
      "35/35 [==============================] - 10s 279ms/step - loss: 0.2619 - accuracy: 0.8395 - val_loss: 0.2385 - val_accuracy: 0.8380\n",
      "Epoch 29/40\n",
      "35/35 [==============================] - 10s 277ms/step - loss: 0.2486 - accuracy: 0.8631 - val_loss: 0.2369 - val_accuracy: 0.8451\n",
      "Epoch 30/40\n",
      "35/35 [==============================] - 10s 276ms/step - loss: 0.2523 - accuracy: 0.8477 - val_loss: 0.2336 - val_accuracy: 0.8486\n",
      "Epoch 31/40\n",
      "35/35 [==============================] - 10s 279ms/step - loss: 0.2477 - accuracy: 0.8586 - val_loss: 0.2340 - val_accuracy: 0.8451\n",
      "Epoch 32/40\n",
      "35/35 [==============================] - 10s 283ms/step - loss: 0.2460 - accuracy: 0.8549 - val_loss: 0.2376 - val_accuracy: 0.8415\n",
      "Epoch 33/40\n",
      "35/35 [==============================] - 10s 276ms/step - loss: 0.2451 - accuracy: 0.8531 - val_loss: 0.2318 - val_accuracy: 0.8486\n",
      "Epoch 34/40\n",
      "35/35 [==============================] - 10s 276ms/step - loss: 0.2477 - accuracy: 0.8577 - val_loss: 0.2341 - val_accuracy: 0.8451\n",
      "Epoch 35/40\n",
      "35/35 [==============================] - 10s 275ms/step - loss: 0.2336 - accuracy: 0.8731 - val_loss: 0.2286 - val_accuracy: 0.8521\n",
      "Epoch 36/40\n",
      "35/35 [==============================] - 10s 275ms/step - loss: 0.2352 - accuracy: 0.8604 - val_loss: 0.2331 - val_accuracy: 0.8521\n",
      "Epoch 37/40\n",
      "35/35 [==============================] - 10s 278ms/step - loss: 0.2423 - accuracy: 0.8595 - val_loss: 0.2291 - val_accuracy: 0.8521\n",
      "Epoch 38/40\n",
      "35/35 [==============================] - 10s 277ms/step - loss: 0.2279 - accuracy: 0.8713 - val_loss: 0.2269 - val_accuracy: 0.8556\n",
      "Epoch 39/40\n",
      "35/35 [==============================] - 10s 274ms/step - loss: 0.2312 - accuracy: 0.8731 - val_loss: 0.2252 - val_accuracy: 0.8486\n",
      "Epoch 40/40\n",
      "35/35 [==============================] - 10s 272ms/step - loss: 0.2242 - accuracy: 0.8740 - val_loss: 0.2207 - val_accuracy: 0.8451\n"
     ]
    }
   ],
   "source": [
    "print(\"[INFO] training head...\")\n",
    "H = model.fit(\n",
    "\taug.flow(trainX, trainY, batch_size=BS),\n",
    "\tsteps_per_epoch=len(trainX) // BS,\n",
    "\tvalidation_data=(testX, testY),\n",
    "\tvalidation_steps=len(testX) // BS,\n",
    "\tepochs=EPOCHS)"
   ]
  },
  {
   "cell_type": "code",
   "execution_count": 11,
   "id": "2ba09430-bbe5-437a-8d40-1f476cfb1f85",
   "metadata": {},
   "outputs": [
    {
     "name": "stdout",
     "output_type": "stream",
     "text": [
      "[INFO] evaluating network...\n",
      "9/9 [==============================] - 0s 33ms/step\n",
      "              precision    recall  f1-score   support\n",
      "\n",
      "        bien       0.83      0.86      0.85        87\n",
      "         mal       0.81      0.73      0.77        99\n",
      "         sin       0.89      0.95      0.92        98\n",
      "\n",
      "    accuracy                           0.85       284\n",
      "   macro avg       0.84      0.85      0.84       284\n",
      "weighted avg       0.84      0.85      0.84       284\n",
      "\n"
     ]
    }
   ],
   "source": [
    "print(\"[INFO] evaluating network...\")\n",
    "predIdxs = model.predict(testX, batch_size=BS)\n",
    "\n",
    "# for each image in the testing set we need to find the index of the\n",
    "# label with corresponding largest predicted probability\n",
    "predIdxs = np.argmax(predIdxs, axis=1)\n",
    "\n",
    "# show a nicely formatted classification report\n",
    "print(classification_report(testY.argmax(axis=1), predIdxs,\n",
    "\ttarget_names=lb.classes_))"
   ]
  },
  {
   "cell_type": "code",
   "execution_count": 12,
   "id": "4e1a6fb9-0d9c-4374-b483-d8e6f9f0afdc",
   "metadata": {},
   "outputs": [
    {
     "name": "stdout",
     "output_type": "stream",
     "text": [
      "[INFO] saving mask detector model...\n"
     ]
    }
   ],
   "source": [
    "# serialize the model to disk\n",
    "print(\"[INFO] saving mask detector model...\")\n",
    "model.save(\"mask_detector_v3.model\", save_format=\"h5\")"
   ]
  },
  {
   "cell_type": "code",
   "execution_count": 13,
   "id": "0534e9bc-b7fb-43b8-83be-8fa3c9519f8c",
   "metadata": {},
   "outputs": [
    {
     "data": {
      "image/png": "[encoded data removed]",
      "text/plain": [
       "<Figure size 432x288 with 1 Axes>"
      ]
     },
     "metadata": {
      "needs_background": "light"
     },
     "output_type": "display_data"
    }
   ],
   "source": [
    "\n",
    "# plot the training loss and accuracy\n",
    "N = EPOCHS\n",
    "plt.style.use(\"ggplot\")\n",
    "plt.figure()\n",
    "plt.plot(np.arange(0, N), H.history[\"loss\"], label=\"train_loss\")\n",
    "plt.plot(np.arange(0, N), H.history[\"val_loss\"], label=\"val_loss\")\n",
    "plt.plot(np.arange(0, N), H.history[\"accuracy\"], label=\"train_acc\")\n",
    "plt.plot(np.arange(0, N), H.history[\"val_accuracy\"], label=\"val_acc\")\n",
    "plt.title(\"Training Loss and Accuracy\")\n",
    "plt.xlabel(\"Epoch #\")\n",
    "plt.ylabel(\"Loss/Accuracy\")\n",
    "plt.legend(loc=\"lower left\")\n",
    "plt.savefig(\"plotv3.png\")"
   ]
  }
 ],
 "metadata": {
  "kernelspec": {
   "display_name": "Python 3 (ipykernel)",
   "language": "python",
   "name": "python3"
  },
  "language_info": {
   "codemirror_mode": {
    "name": "ipython",
    "version": 3
   },
   "file_extension": ".py",
   "mimetype": "text/x-python",
   "name": "python",
   "nbconvert_exporter": "python",
   "pygments_lexer": "ipython3",
   "version": "3.10.5"
  }
 },
 "nbformat": 4,
 "nbformat_minor": 5
}
