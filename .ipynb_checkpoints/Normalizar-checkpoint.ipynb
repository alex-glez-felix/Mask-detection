{
 "cells": [
  {
   "cell_type": "code",
   "execution_count": 19,
   "id": "e9be9b54-e783-4128-82df-7bc7a281852b",
   "metadata": {},
   "outputs": [],
   "source": [
    "import os\n",
    "import shutil\n",
    "import cv2"
   ]
  },
  {
   "cell_type": "code",
   "execution_count": 20,
   "id": "a1a1fbcc-209e-4934-bc8a-de97b9790e60",
   "metadata": {},
   "outputs": [],
   "source": [
    "categories = os.listdir(\"dataset\")[1:] # Del uno hacia adelante para no incluir el checkpoint de jupyter\n",
    "frontal_face_cascade = cv2.CascadeClassifier(\"haarcascade_frontalface_default.xml\")\n",
    "side_face_cascade = cv2.CascadeClassifier(\"haarcascade_frontalface_default.xml\")\n",
    "\n",
    "\n"
   ]
  },
  {
   "cell_type": "code",
   "execution_count": 26,
   "id": "1de2c06c-9324-48ca-9722-c4228a524c0f",
   "metadata": {},
   "outputs": [
    {
     "ename": "SyntaxError",
     "evalue": "f-string: expecting '}' (1174338948.py, line 15)",
     "output_type": "error",
     "traceback": [
      "\u001b[1;36m  Input \u001b[1;32mIn [26]\u001b[1;36m\u001b[0m\n\u001b[1;33m    print(f\"#faces: {len(faces),\", end=\"\\r\")\u001b[0m\n\u001b[1;37m                                 ^\u001b[0m\n\u001b[1;31mSyntaxError\u001b[0m\u001b[1;31m:\u001b[0m f-string: expecting '}'\n"
     ]
    }
   ],
   "source": [
    "for cat in categories:\n",
    "    dirs = os.listdir(f\"dataset/{cat}\")\n",
    "    for idx, name in enumerate(dirs):\n",
    "        print(f\"Category: {cat}, photo {idx} of {len(dirs)}\", end=\"\")\n",
    "        img_dir = f\"dataset/{cat}/{name}\"\n",
    "        img = cv2.imread(img_dir)\n",
    "        \n",
    "        gray = cv2.cvtColor(img, cv2.COLOR_BGR2GRAY)\n",
    "        faces = frontal_face_cascade.detectMultiScale(gray, minSize=(200, 200), minNeighbors=7)\n",
    "\n",
    "        # Si no encuentra usando el primero, buscar caras de lado\n",
    "        if len(faces) == 0:\n",
    "            faces = side_face_cascade.detectMultiScale(gray, minSize=(200, 200), minNeighbors=5)\n",
    "\n",
    "        print(f\" #faces: {len(faces)}\" end=\"\\r\")\n",
    "        for idx_f, pos in enumerate(faces):\n",
    "            x, y, w, h = pos\n",
    "            face = img[y:y+h, x:x+w]\n",
    "            resized = cv2.resize(face, (224, 224), cv2.INTER_CUBIC )\n",
    "            cv2.imwrite(f\"normalized_dataset/{cat}/{idx}_{idx_f}.jpg\", resized)\n"
   ]
  }
 ],
 "metadata": {
  "kernelspec": {
   "display_name": "Python 3 (ipykernel)",
   "language": "python",
   "name": "python3"
  },
  "language_info": {
   "codemirror_mode": {
    "name": "ipython",
    "version": 3
   },
   "file_extension": ".py",
   "mimetype": "text/x-python",
   "name": "python",
   "nbconvert_exporter": "python",
   "pygments_lexer": "ipython3",
   "version": "3.10.5"
  }
 },
 "nbformat": 4,
 "nbformat_minor": 5
}
