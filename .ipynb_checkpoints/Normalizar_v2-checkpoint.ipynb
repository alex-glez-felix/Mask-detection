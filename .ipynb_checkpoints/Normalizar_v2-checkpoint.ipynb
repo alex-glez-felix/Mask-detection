{
 "cells": [
  {
   "cell_type": "code",
   "execution_count": 1,
   "id": "5d60f505-ee02-4d46-b9da-70d952e80207",
   "metadata": {},
   "outputs": [],
   "source": [
    "from tensorflow.keras.applications.mobilenet_v2 import preprocess_input\n",
    "from tensorflow.keras.preprocessing.image import img_to_array\n",
    "from tensorflow.keras.models import load_model\n",
    "from imutils.video import VideoStream\n",
    "import numpy as np\n",
    "import imutils\n",
    "import cv2\n",
    "import os"
   ]
  },
  {
   "cell_type": "code",
   "execution_count": 2,
   "id": "8a908484-d787-4b75-94cf-11e590aac3d4",
   "metadata": {},
   "outputs": [],
   "source": [
    "# load our serialized face detector model from disk\n",
    "prototxtPath = r\"face_detector\\deploy.prototxt\"\n",
    "weightsPath = r\"face_detector\\res10_300x300_ssd_iter_140000.caffemodel\"\n",
    "faceNet = cv2.dnn.readNet(prototxtPath, weightsPath)"
   ]
  },
  {
   "cell_type": "code",
   "execution_count": 3,
   "id": "8bc2cf6e-05c3-46c3-a93b-ca566b13c3e1",
   "metadata": {},
   "outputs": [],
   "source": [
    "DATA_DIRECTORY = r\"C:\\Users\\aleja\\Pictures\\dataset\"\n",
    "CATEGORIES = [\"bien\", \"mal\", \"sin\"]"
   ]
  },
  {
   "cell_type": "code",
   "execution_count": 4,
   "id": "de3bdf66-f39a-4507-a194-831179a08314",
   "metadata": {},
   "outputs": [
    {
     "name": "stdout",
     "output_type": "stream",
     "text": [
      "Category: bien, photo 49 of 484, #faces: (1, 1, 200, 7)          \r"
     ]
    },
    {
     "ename": "KeyboardInterrupt",
     "evalue": "",
     "output_type": "error",
     "traceback": [
      "\u001b[1;31m---------------------------------------------------------------------------\u001b[0m",
      "\u001b[1;31mKeyboardInterrupt\u001b[0m                         Traceback (most recent call last)",
      "Input \u001b[1;32mIn [4]\u001b[0m, in \u001b[0;36m<cell line: 1>\u001b[1;34m()\u001b[0m\n\u001b[0;32m      4\u001b[0m \u001b[38;5;28mprint\u001b[39m(\u001b[38;5;124mf\u001b[39m\u001b[38;5;124m\"\u001b[39m\u001b[38;5;124mCategory: \u001b[39m\u001b[38;5;132;01m{\u001b[39;00mcat\u001b[38;5;132;01m}\u001b[39;00m\u001b[38;5;124m, photo \u001b[39m\u001b[38;5;132;01m{\u001b[39;00midx\u001b[38;5;132;01m}\u001b[39;00m\u001b[38;5;124m of \u001b[39m\u001b[38;5;132;01m{\u001b[39;00m\u001b[38;5;28mlen\u001b[39m(dirs)\u001b[38;5;132;01m}\u001b[39;00m\u001b[38;5;124m\"\u001b[39m, end\u001b[38;5;241m=\u001b[39m\u001b[38;5;124m\"\u001b[39m\u001b[38;5;130;01m\\r\u001b[39;00m\u001b[38;5;124m\"\u001b[39m)\n\u001b[0;32m      5\u001b[0m img_dir \u001b[38;5;241m=\u001b[39m \u001b[38;5;124mf\u001b[39m\u001b[38;5;124m\"\u001b[39m\u001b[38;5;132;01m{\u001b[39;00mDATA_DIRECTORY\u001b[38;5;132;01m}\u001b[39;00m\u001b[38;5;124m/\u001b[39m\u001b[38;5;132;01m{\u001b[39;00mcat\u001b[38;5;132;01m}\u001b[39;00m\u001b[38;5;124m/\u001b[39m\u001b[38;5;132;01m{\u001b[39;00mname\u001b[38;5;132;01m}\u001b[39;00m\u001b[38;5;124m\"\u001b[39m\n\u001b[1;32m----> 6\u001b[0m img \u001b[38;5;241m=\u001b[39m \u001b[43mcv2\u001b[49m\u001b[38;5;241;43m.\u001b[39;49m\u001b[43mimread\u001b[49m\u001b[43m(\u001b[49m\u001b[43mimg_dir\u001b[49m\u001b[43m)\u001b[49m\n\u001b[0;32m      8\u001b[0m \u001b[38;5;28;01mif\u001b[39;00m img \u001b[38;5;129;01mis\u001b[39;00m \u001b[38;5;28;01mNone\u001b[39;00m:\n\u001b[0;32m      9\u001b[0m     \u001b[38;5;28mprint\u001b[39m(img_dir)\n",
      "\u001b[1;31mKeyboardInterrupt\u001b[0m: "
     ]
    }
   ],
   "source": [
    "for cat in CATEGORIES:\n",
    "    dirs = os.listdir(f\"{DATA_DIRECTORY}/{cat}\")\n",
    "    for idx, name in enumerate(dirs):\n",
    "        print(f\"Category: {cat}, photo {idx} of {len(dirs)}\", end=\"\\r\")\n",
    "        img_dir = f\"{DATA_DIRECTORY}/{cat}/{name}\"\n",
    "        img = cv2.imread(img_dir)\n",
    "        \n",
    "        if img is None:\n",
    "            print(img_dir)\n",
    "            raise ValueError(\"XDD\")\n",
    "        (h, w) = img.shape[:2]\n",
    "        blob = cv2.dnn.blobFromImage(img, 1.0, (224, 224), (104.0, 177.0, 123.0))\n",
    "\n",
    "        faceNet.setInput(blob)\n",
    "        detections = faceNet.forward()\n",
    "        \n",
    "        print(f\"Category: {cat}, photo {idx} of {len(dirs)}, #faces: {detections.shape}          \", end=\"\\r\")\n",
    "        \n",
    "        for i in range(0, detections.shape[2]):\n",
    "            confidence = detections[0, 0, i, 2]\n",
    "            \n",
    "            if confidence < 0.5:\n",
    "                continue\n",
    "            box = detections[0, 0, i, 3:7] * np.array([w, h, w, h])\n",
    "            startX, startY, endX, endY = box.astype(\"int\")\n",
    "                \n",
    "            startX, startY = max(0, startX), max(0, startY)\n",
    "            endX, endY = min(w - 1, endX), min(h - 1, endY)\n",
    "                \n",
    "            face = img[startY:endY, startX:endX]\n",
    "            face = cv2.resize(face, (224, 224))\n",
    "            \n",
    "            cv2.imwrite(f\"normalized_dataset/{cat}/{idx}_{i}.jpg\", face)\n"
   ]
  },
  {
   "cell_type": "code",
   "execution_count": null,
   "id": "dc7c84dc-51b2-4cba-85dc-6347cd4c3983",
   "metadata": {},
   "outputs": [],
   "source": []
  }
 ],
 "metadata": {
  "kernelspec": {
   "display_name": "Python 3 (ipykernel)",
   "language": "python",
   "name": "python3"
  },
  "language_info": {
   "codemirror_mode": {
    "name": "ipython",
    "version": 3
   },
   "file_extension": ".py",
   "mimetype": "text/x-python",
   "name": "python",
   "nbconvert_exporter": "python",
   "pygments_lexer": "ipython3",
   "version": "3.10.5"
  }
 },
 "nbformat": 4,
 "nbformat_minor": 5
}
