{
 "cells": [
  {
   "cell_type": "code",
   "execution_count": 1,
   "id": "483d6cb8-8fa6-482f-b48f-4b0a73d9e3ef",
   "metadata": {},
   "outputs": [],
   "source": [
    "from tensorflow.keras.preprocessing.image import ImageDataGenerator\n",
    "from tensorflow.keras.applications import MobileNetV2\n",
    "from tensorflow.keras.layers import AveragePooling2D\n",
    "from tensorflow.keras.layers import Dropout\n",
    "from tensorflow.keras.layers import Flatten\n",
    "from tensorflow.keras.layers import Dense\n",
    "from tensorflow.keras.layers import Input\n",
    "from tensorflow.keras.models import Model\n",
    "from tensorflow.keras.optimizers import Adam\n",
    "from tensorflow.keras.applications.mobilenet_v2 import preprocess_input\n",
    "from tensorflow.keras.preprocessing.image import img_to_array\n",
    "from tensorflow.keras.preprocessing.image import load_img\n",
    "from tensorflow.keras.utils import to_categorical\n",
    "from sklearn.preprocessing import LabelBinarizer\n",
    "from sklearn.model_selection import train_test_split\n",
    "from sklearn.metrics import classification_report\n",
    "from imutils import paths\n",
    "import matplotlib.pyplot as plt\n",
    "import numpy as np\n",
    "import os"
   ]
  },
  {
   "cell_type": "code",
   "execution_count": 2,
   "id": "95f2c0b1-1b03-462a-8559-1c1bb10145ce",
   "metadata": {},
   "outputs": [],
   "source": [
    "INIT_LR = 1e-4\n",
    "EPOCHS = 20\n",
    "BS = 32\n",
    "\n",
    "DIRECTORY = r\"normalized_dataset\"\n",
    "CATEGORIES = [\"bien\", \"mal\", \"sin\"]"
   ]
  },
  {
   "cell_type": "code",
   "execution_count": 3,
   "id": "9db48394-104e-4f22-8762-c5d5a62b5658",
   "metadata": {},
   "outputs": [
    {
     "name": "stdout",
     "output_type": "stream",
     "text": [
      "[INFO] loading images...\n",
      "normalized_dataset\\bien\n",
      "normalized_dataset\\mal\n",
      "normalized_dataset\\sin\n"
     ]
    }
   ],
   "source": [
    "print(\"[INFO] loading images...\")\n",
    "\n",
    "data = []\n",
    "labels = []\n",
    "\n",
    "for category in CATEGORIES:\n",
    "    path = os.path.join(DIRECTORY, category)\n",
    "    print(path)\n",
    "    for img in os.listdir(path):\n",
    "    \timg_path = os.path.join(path, img)\n",
    "    \timage = load_img(img_path, target_size=(224, 224))\n",
    "    \timage = img_to_array(image)\n",
    "    \timage = preprocess_input(image)\n",
    "\n",
    "    \tdata.append(image)\n",
    "    \tlabels.append(category)\n",
    "        \n",
    "# perform one-hot encoding on the labels\n",
    "lb = LabelBinarizer()\n",
    "labels = lb.fit_transform(labels)\n",
    "\n",
    "data = np.array(data, dtype=\"float32\")\n",
    "labels = np.array(labels)\n",
    "\n",
    "(trainX, testX, trainY, testY) = train_test_split(data, labels,\n",
    "\ttest_size=0.20, stratify=labels, random_state=42)"
   ]
  },
  {
   "cell_type": "code",
   "execution_count": 4,
   "id": "bdd065dc-062d-48dd-803e-b13518e86d44",
   "metadata": {},
   "outputs": [],
   "source": [
    "aug = ImageDataGenerator(\n",
    "\trotation_range=20,\n",
    "\tzoom_range=0.15,\n",
    "\twidth_shift_range=0.2,\n",
    "\theight_shift_range=0.2,\n",
    "\tshear_range=0.15,\n",
    "\thorizontal_flip=True,\n",
    "\tfill_mode=\"nearest\")"
   ]
  },
  {
   "cell_type": "code",
   "execution_count": 5,
   "id": "40e49b64-2555-4d01-bc5a-ef97f6e80448",
   "metadata": {},
   "outputs": [
    {
     "name": "stdout",
     "output_type": "stream",
     "text": [
      "WARNING:tensorflow:`input_shape` is undefined or non-square, or `rows` is not in [96, 128, 160, 192, 224]. Weights for input shape (224, 224) will be loaded as the default.\n"
     ]
    }
   ],
   "source": [
    "baseModel = MobileNetV2(weights=\"imagenet\", include_top=False,\n",
    "\tinput_tensor=Input(shape=(224, 224, 3)))\n",
    "\n",
    "headModel = baseModel.output\n",
    "headModel = AveragePooling2D(pool_size=(7, 7))(headModel)\n",
    "headModel = Flatten(name=\"flatten\")(headModel)\n",
    "headModel = Dense(128, activation=\"relu\")(headModel)\n",
    "headModel = Dropout(0.5)(headModel)\n",
    "headModel = Dense(3, activation=\"softmax\")(headModel)\n",
    "\n",
    "model = Model(inputs=baseModel.input, outputs=headModel)\n",
    "\n",
    "for layer in baseModel.layers:\n",
    "\tlayer.trainable = False"
   ]
  },
  {
   "cell_type": "code",
   "execution_count": 6,
   "id": "cc8a0329-ba2b-468d-9f35-3ab3ab5ffcda",
   "metadata": {},
   "outputs": [
    {
     "name": "stdout",
     "output_type": "stream",
     "text": [
      "[INFO] compiling model...\n"
     ]
    }
   ],
   "source": [
    "print(\"[INFO] compiling model...\")\n",
    "opt = Adam(learning_rate=INIT_LR, decay=INIT_LR / EPOCHS)\n",
    "model.compile(loss=\"binary_crossentropy\", optimizer=opt,\n",
    "\tmetrics=[\"accuracy\"])"
   ]
  },
  {
   "cell_type": "code",
   "execution_count": 7,
   "id": "d9b6ebb9-aace-4241-aa2c-847abcc06095",
   "metadata": {},
   "outputs": [
    {
     "name": "stdout",
     "output_type": "stream",
     "text": [
      "[INFO] training head...\n",
      "Epoch 1/20\n",
      "20/20 [==============================] - 12s 501ms/step - loss: 0.5948 - accuracy: 0.5415 - val_loss: 0.4619 - val_accuracy: 0.6667\n",
      "Epoch 2/20\n",
      "20/20 [==============================] - 10s 471ms/step - loss: 0.4981 - accuracy: 0.6504 - val_loss: 0.4121 - val_accuracy: 0.6975\n",
      "Epoch 3/20\n",
      "20/20 [==============================] - 10s 484ms/step - loss: 0.4551 - accuracy: 0.7041 - val_loss: 0.3816 - val_accuracy: 0.7654\n",
      "Epoch 4/20\n",
      "20/20 [==============================] - 10s 482ms/step - loss: 0.4318 - accuracy: 0.7106 - val_loss: 0.3618 - val_accuracy: 0.7778\n",
      "Epoch 5/20\n",
      "20/20 [==============================] - 10s 479ms/step - loss: 0.4111 - accuracy: 0.7447 - val_loss: 0.3462 - val_accuracy: 0.7716\n",
      "Epoch 6/20\n",
      "20/20 [==============================] - 9s 492ms/step - loss: 0.3952 - accuracy: 0.7561 - val_loss: 0.3333 - val_accuracy: 0.7963\n",
      "Epoch 7/20\n",
      "20/20 [==============================] - 10s 477ms/step - loss: 0.3772 - accuracy: 0.7659 - val_loss: 0.3243 - val_accuracy: 0.7963\n",
      "Epoch 8/20\n",
      "20/20 [==============================] - 10s 495ms/step - loss: 0.3668 - accuracy: 0.7724 - val_loss: 0.3160 - val_accuracy: 0.8148\n",
      "Epoch 9/20\n",
      "20/20 [==============================] - 10s 475ms/step - loss: 0.3672 - accuracy: 0.7642 - val_loss: 0.3114 - val_accuracy: 0.8333\n",
      "Epoch 10/20\n",
      "20/20 [==============================] - 10s 474ms/step - loss: 0.3505 - accuracy: 0.7935 - val_loss: 0.3042 - val_accuracy: 0.8210\n",
      "Epoch 11/20\n",
      "20/20 [==============================] - 9s 491ms/step - loss: 0.3462 - accuracy: 0.7902 - val_loss: 0.2980 - val_accuracy: 0.8395\n",
      "Epoch 12/20\n",
      "20/20 [==============================] - 10s 475ms/step - loss: 0.3400 - accuracy: 0.7854 - val_loss: 0.2923 - val_accuracy: 0.8395\n",
      "Epoch 13/20\n",
      "20/20 [==============================] - 10s 475ms/step - loss: 0.3487 - accuracy: 0.7675 - val_loss: 0.2893 - val_accuracy: 0.8333\n",
      "Epoch 14/20\n",
      "20/20 [==============================] - 10s 475ms/step - loss: 0.3215 - accuracy: 0.8260 - val_loss: 0.2824 - val_accuracy: 0.8457\n",
      "Epoch 15/20\n",
      "20/20 [==============================] - 10s 480ms/step - loss: 0.2987 - accuracy: 0.8309 - val_loss: 0.2747 - val_accuracy: 0.8395\n",
      "Epoch 16/20\n",
      "20/20 [==============================] - 10s 473ms/step - loss: 0.3129 - accuracy: 0.8179 - val_loss: 0.2713 - val_accuracy: 0.8519\n",
      "Epoch 17/20\n",
      "20/20 [==============================] - 10s 475ms/step - loss: 0.3106 - accuracy: 0.8163 - val_loss: 0.2668 - val_accuracy: 0.8457\n",
      "Epoch 18/20\n",
      "20/20 [==============================] - 10s 474ms/step - loss: 0.3156 - accuracy: 0.8098 - val_loss: 0.2656 - val_accuracy: 0.8395\n",
      "Epoch 19/20\n",
      "20/20 [==============================] - 10s 475ms/step - loss: 0.3240 - accuracy: 0.8146 - val_loss: 0.2620 - val_accuracy: 0.8457\n",
      "Epoch 20/20\n",
      "20/20 [==============================] - 10s 482ms/step - loss: 0.3032 - accuracy: 0.8130 - val_loss: 0.2608 - val_accuracy: 0.8395\n"
     ]
    }
   ],
   "source": [
    "print(\"[INFO] training head...\")\n",
    "H = model.fit(\n",
    "\taug.flow(trainX, trainY, batch_size=BS),\n",
    "\tsteps_per_epoch=len(trainX) // BS,\n",
    "\tvalidation_data=(testX, testY),\n",
    "\tvalidation_steps=len(testX) // BS,\n",
    "\tepochs=EPOCHS)"
   ]
  },
  {
   "cell_type": "code",
   "execution_count": 9,
   "id": "2ba09430-bbe5-437a-8d40-1f476cfb1f85",
   "metadata": {},
   "outputs": [
    {
     "name": "stdout",
     "output_type": "stream",
     "text": [
      "[INFO] evaluating network...\n",
      "6/6 [==============================] - 2s 240ms/step\n",
      "              precision    recall  f1-score   support\n",
      "\n",
      "        bien       0.79      0.83      0.81        23\n",
      "         mal       0.84      0.66      0.74        56\n",
      "         sin       0.85      0.96      0.90        83\n",
      "\n",
      "    accuracy                           0.84       162\n",
      "   macro avg       0.83      0.82      0.82       162\n",
      "weighted avg       0.84      0.84      0.83       162\n",
      "\n"
     ]
    }
   ],
   "source": [
    "print(\"[INFO] evaluating network...\")\n",
    "predIdxs = model.predict(testX, batch_size=BS)\n",
    "\n",
    "# for each image in the testing set we need to find the index of the\n",
    "# label with corresponding largest predicted probability\n",
    "predIdxs = np.argmax(predIdxs, axis=1)\n",
    "\n",
    "# show a nicely formatted classification report\n",
    "print(classification_report(testY.argmax(axis=1), predIdxs,\n",
    "\ttarget_names=lb.classes_))"
   ]
  },
  {
   "cell_type": "code",
   "execution_count": 10,
   "id": "4e1a6fb9-0d9c-4374-b483-d8e6f9f0afdc",
   "metadata": {},
   "outputs": [
    {
     "name": "stdout",
     "output_type": "stream",
     "text": [
      "[INFO] saving mask detector model...\n"
     ]
    }
   ],
   "source": [
    "# serialize the model to disk\n",
    "print(\"[INFO] saving mask detector model...\")\n",
    "model.save(\"mask_detector_v1.model\", save_format=\"h5\")"
   ]
  },
  {
   "cell_type": "code",
   "execution_count": 11,
   "id": "0534e9bc-b7fb-43b8-83be-8fa3c9519f8c",
   "metadata": {},
   "outputs": [
    {
     "data": {
      "image/png": "[encoded data removed]",
      "text/plain": [
       "<Figure size 432x288 with 1 Axes>"
      ]
     },
     "metadata": {
      "needs_background": "light"
     },
     "output_type": "display_data"
    }
   ],
   "source": [
    "\n",
    "# plot the training loss and accuracy\n",
    "N = EPOCHS\n",
    "plt.style.use(\"ggplot\")\n",
    "plt.figure()\n",
    "plt.plot(np.arange(0, N), H.history[\"loss\"], label=\"train_loss\")\n",
    "plt.plot(np.arange(0, N), H.history[\"val_loss\"], label=\"val_loss\")\n",
    "plt.plot(np.arange(0, N), H.history[\"accuracy\"], label=\"train_acc\")\n",
    "plt.plot(np.arange(0, N), H.history[\"val_accuracy\"], label=\"val_acc\")\n",
    "plt.title(\"Training Loss and Accuracy\")\n",
    "plt.xlabel(\"Epoch #\")\n",
    "plt.ylabel(\"Loss/Accuracy\")\n",
    "plt.legend(loc=\"lower left\")\n",
    "plt.savefig(\"plot.png\")"
   ]
  }
 ],
 "metadata": {
  "kernelspec": {
   "display_name": "Python 3 (ipykernel)",
   "language": "python",
   "name": "python3"
  },
  "language_info": {
   "codemirror_mode": {
    "name": "ipython",
    "version": 3
   },
   "file_extension": ".py",
   "mimetype": "text/x-python",
   "name": "python",
   "nbconvert_exporter": "python",
   "pygments_lexer": "ipython3",
   "version": "3.10.5"
  }
 },
 "nbformat": 4,
 "nbformat_minor": 5
}
