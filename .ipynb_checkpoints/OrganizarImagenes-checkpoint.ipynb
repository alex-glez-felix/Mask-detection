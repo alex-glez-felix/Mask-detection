{
 "cells": [
  {
   "cell_type": "code",
   "execution_count": 1,
   "id": "c87af22d-4803-436d-89c1-1a7244946838",
   "metadata": {},
   "outputs": [],
   "source": [
    "import shutil\n",
    "import os"
   ]
  },
  {
   "cell_type": "code",
   "execution_count": 4,
   "id": "578bc33a-14bf-4c25-8c14-c9f59773ee79",
   "metadata": {},
   "outputs": [
    {
     "name": "stdout",
     "output_type": "stream",
     "text": [
      "Copiando imagenes...\n",
      "Copiando imagen 507/508 de la categoria: sin       \n",
      "Terminado!\n"
     ]
    }
   ],
   "source": [
    "src = \"Fotos\"\n",
    "categories = [\"bien\", \"mal\", \"sin\"]\n",
    "dest = \"dataset\"\n",
    "\n",
    "fotos = []\n",
    "print(\"Copiando imagenes...\")\n",
    "for cat in categories:\n",
    "    dirs = os.listdir(f\"{src}/{cat}\")\n",
    "    for idx, pic in enumerate(os.listdir(f\"{src}/{cat}\")):\n",
    "        print(f\"Copiando imagen {idx}/{len(dirs)} de la categoria: {cat:<10}\", end=\"\\r\")\n",
    "        name = f\"{src}/{cat}/{pic}\"\n",
    "        dest_name = f\"{dest}/{cat}/{idx}.jpg\"\n",
    "        shutil.copy(name, dest_name)\n",
    "print(\"\\nTerminado!\")"
   ]
  }
 ],
 "metadata": {
  "kernelspec": {
   "display_name": "Python 3 (ipykernel)",
   "language": "python",
   "name": "python3"
  },
  "language_info": {
   "codemirror_mode": {
    "name": "ipython",
    "version": 3
   },
   "file_extension": ".py",
   "mimetype": "text/x-python",
   "name": "python",
   "nbconvert_exporter": "python",
   "pygments_lexer": "ipython3",
   "version": "3.10.5"
  }
 },
 "nbformat": 4,
 "nbformat_minor": 5
}
